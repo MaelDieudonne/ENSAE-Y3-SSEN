{
 "cells": [
  {
   "cell_type": "code",
   "execution_count": null,
   "id": "e8f04bea-df1d-4b94-859d-91c7f3981c67",
   "metadata": {},
   "outputs": [],
   "source": [
    "import pandas as pd\n",
    "import networkx as nx\n",
    "import matplotlib.pyplot as plt\n",
    "import numpy as np\n",
    "\n",
    "from matplotlib.cm import get_cmap\n",
    "from matplotlib.colors import LinearSegmentedColormap\n",
    "from matplotlib.lines import Line2D"
   ]
  },
  {
   "cell_type": "code",
   "execution_count": null,
   "id": "1ffaca6b-4e1d-49e0-95f2-0330638d7d73",
   "metadata": {},
   "outputs": [],
   "source": [
    "# Lecture des données\n",
    "data = pd.read_csv('data/flandreau_jobst_internationalcurrencies_data.txt', encoding='cp1252', skiprows=9, header=0, sep='\\t')"
   ]
  },
  {
   "cell_type": "code",
   "execution_count": null,
   "id": "689a2222-3949-45a5-aa56-bd922743d277",
   "metadata": {
    "scrolled": true
   },
   "outputs": [],
   "source": [
    "# Commençons par créer un fichier attributes en ne gardant que les éléments par pays puis supprimant les lignes qui se répètent\n",
    "attributes = data[[\"country_A\", \"gold\", \"colony\", \"debtburden\", \"rlong\", \"rshort1900\", \"rshort1890\", \"rgdp\", \"rgdpcap\", \"poldemo\", \"coverage\"]]\n",
    "# Sort the dataframe to ensure rows with colony=1 come first\n",
    "attributes = attributes.sort_values(by=[\"country_A\", \"colony\"], ascending=[True, False])\n",
    "# Drop duplicates, keeping the first row (colony=1 will be kept if present)\n",
    "attributes = attributes.drop_duplicates(subset=\"country_A\", keep=\"first\").reset_index(drop=True)\n",
    "attributes = attributes.rename(columns={\"colony\": \"is_colonized\"})\n",
    "\n",
    "# Récupérons aussi le nombre de colonies\n",
    "nb_colonies = data.groupby(\"country_B\")[\"colony\"].sum().reset_index()\n",
    "nb_colonies = nb_colonies.rename(columns={\"colony\": \"has_colonies\"})\n",
    "attributes = nb_colonies.merge(attributes, left_on=\"country_B\", right_on=\"country_A\", how=\"left\")\n",
    "attributes = attributes.drop(columns=['country_A'])\n",
    "attributes = attributes.rename(columns={\"country_B\": \"country\"})"
   ]
  },
  {
   "cell_type": "code",
   "execution_count": null,
   "id": "ad7f9ae0-aaf9-4703-aef3-aa9da2404ca0",
   "metadata": {},
   "outputs": [],
   "source": [
    "country_mapping = {\n",
    "    \"ARG\": \"Argentina\",\n",
    "    \"AUS\": \"Australia\",\n",
    "    \"AUH\": \"United Arab Emirates\",\n",
    "    \"BEL\": \"Belgium\",\n",
    "    \"BRA\": \"Brazil\",\n",
    "    \"CAN\": \"Canada\",\n",
    "    \"CEY\": \"Ceylon\",\n",
    "    \"CHE\": \"Switzerland\",\n",
    "    \"CHL\": \"Chile\",\n",
    "    \"CHN\": \"China\",\n",
    "    \"COL\": \"Colombia\",\n",
    "    \"CUB\": \"Cuba\",\n",
    "    \"DEU\": \"Germany\",\n",
    "    \"DNK\": \"Denmark\",\n",
    "    \"ECU\": \"Ecuador\",\n",
    "    \"EGY\": \"Egypt\",\n",
    "    \"ESP\": \"Spain\",\n",
    "    \"FIN\": \"Finland\",\n",
    "    \"FRA\": \"France\",\n",
    "    \"GBR\": \"United Kingdom\",\n",
    "    \"GRC\": \"Greece\",\n",
    "    \"HKG\": \"Hong Kong\",\n",
    "    \"ICH\": \"Sandwich Islands\",\n",
    "    \"IND\": \"India\",\n",
    "    \"ITA\": \"Italy\",\n",
    "    \"JAV\": \"Java\",\n",
    "    \"JPN\": \"Japan\",\n",
    "    \"MEX\": \"Mexico\",\n",
    "    \"NLD\": \"Netherlands\",\n",
    "    \"NOR\": \"Norway\",\n",
    "    \"NZL\": \"New Zealand\",\n",
    "    \"OTT\": \"Ottoman Empire\",\n",
    "    \"PER\": \"Peru\",\n",
    "    \"PHL\": \"Philippines\",\n",
    "    \"PRT\": \"Portugal\",\n",
    "    \"PRS\": \"Persia\",\n",
    "    \"ROM\": \"Romania\",\n",
    "    \"RUS\": \"Russia\",\n",
    "    \"SER\": \"Serbia\",\n",
    "    \"SGP\": \"Singapore\",\n",
    "    \"SIA\": \"Siam\",\n",
    "    \"SWE\": \"Sweden\",\n",
    "    \"URY\": \"Uruguay\",\n",
    "    \"USA\": \"United States\",\n",
    "    \"VEN\": \"Venezuela\"}\n",
    "\n",
    "attributes[\"country\"] = attributes[\"country\"].map(country_mapping)"
   ]
  },
  {
   "cell_type": "code",
   "execution_count": null,
   "id": "68fb4c81-3a8b-4cea-a688-7d35e8da9842",
   "metadata": {
    "scrolled": true
   },
   "outputs": [],
   "source": [
    "attributes.style.hide(axis=\"index\")"
   ]
  },
  {
   "cell_type": "markdown",
   "id": "4ad456f0-3d38-4f4b-b9bc-6050ddc095a0",
   "metadata": {},
   "source": [
    "# Première approche\n",
    "***Description de la structure du graph ?***\n",
    "\n",
    "Il faut d'abord bien préciser la signification des données : un lien allant de $A$ vers $B$ signifie que le pays $B$ possède un marché des changes intégrant la devise du pays $A$. En l'absence de tout autre lien, cela signifie qu'il est nécessaire de passer par le pays $B$ pour échanger la devise du pays $A$, c'est-à-dire que le pays $A$ est dépendant du pays $B$ pour ses échanges extérieurs."
   ]
  },
  {
   "cell_type": "code",
   "execution_count": null,
   "id": "dcb7c629-f5bf-4876-a53b-7f66f43a9b0c",
   "metadata": {},
   "outputs": [],
   "source": [
    "# Création d'un graph orienté avec la variable 1900 (possible de pondérer le graph pour utiliser les 3 ? Ou de faire avec le commerce ?)\n",
    "graph_change_1900 = nx.DiGraph()\n",
    "\n",
    "for _, row in data.iterrows():\n",
    "    if row[\"quote1900\"] == 1:\n",
    "        graph_change_1900.add_edge(row[\"country_A\"], row[\"country_B\"])"
   ]
  },
  {
   "cell_type": "code",
   "execution_count": null,
   "id": "88a43d82-92fa-4adf-adcb-67817046cd53",
   "metadata": {},
   "outputs": [],
   "source": [
    "n = graph_change_1900.number_of_nodes()\n",
    "L = graph_change_1900.number_of_edges()\n",
    "density = L/(n*(n-1))\n",
    "print(f\"Nombre de sommets : {n}\")\n",
    "print(f\"Nombre d'arêtes : {L}\")\n",
    "print(f\"Densité : {density:.4f}\")"
   ]
  },
  {
   "cell_type": "markdown",
   "id": "ccf69086-985e-41dc-8caf-8847bfb842e7",
   "metadata": {},
   "source": [
    "On constate d'emblée que le réseau est très peu dense, avec seulement 218 liens sur les $45*44=1980$ possibles, ce qui correspond à une densité de 0.11 : ceci indique que la majorité des pays ne sont pas directement connectés sur le marché des changes, autrement dit, que celui-ci fonctionne de manière centralisée, ou que de nombreux pays ne participent pas aux échanges internationaux."
   ]
  },
  {
   "cell_type": "code",
   "execution_count": null,
   "id": "344f1405-0e3f-40a4-bc50-83a941f8e974",
   "metadata": {},
   "outputs": [],
   "source": [
    "isolates = list(nx.isolates(graph_change_1900))\n",
    "print(f\"Proportion de pays isolés : {len(isolates) / n:.0f}\")\n",
    "\n",
    "no_incoming = [node for node in graph_change_1900.nodes() if graph_change_1900.in_degree(node) == 0]\n",
    "no_incoming_share = len(no_incoming) / n if n > 0 else 0\n",
    "print(f\"Proportion de pays  sans lien entrant : {100*no_incoming_share:.1f} %\")\n",
    "\n",
    "bidir_edges = sum(1 for u, v in graph_change_1900.edges() if graph_change_1900.has_edge(v, u))\n",
    "total_edges = graph_change_1900.number_of_edges()\n",
    "unidir_edges = total_edges - bidir_edges\n",
    "country_links = unidir_edges + (bidir_edges / 2)\n",
    "bidir_share = (bidir_edges / 2) / country_links\n",
    "print(f\"Proportion de pays sans liens réciproques : {100*(1-bidir_share):.1f} %\")\n",
    "\n",
    "print(f\"La réciprocité moyenne vaut {nx.reciprocity(graph_change_1900):.3f}\")"
   ]
  },
  {
   "cell_type": "markdown",
   "id": "94268231-cbe4-424e-8785-50368637e4a0",
   "metadata": {},
   "source": [
    "On ne trouve aucun pays isolé, ce qui écarte l'hypothèse de pays ne participant pas aux échanges internationaux. En revanche, 44,4 % des pays ne sont destinataires d'aucun lien, c'est-à-dire qu'ils doivent utiliser des marchés étrangers pour échanger leur monnaie nationale.\n",
    "\n",
    "Si l'on s'intéresse aux liens entre pays sans considérer leur direction, mais seulement leur caractère unilatéral ou réciproque, on constate que 72,5 % des pays n'entretiennent aucun lien réciproque."
   ]
  },
  {
   "cell_type": "code",
   "execution_count": null,
   "id": "8209efac-e4f7-4761-9bc9-8aba215ea487",
   "metadata": {},
   "outputs": [],
   "source": [
    "def truncate_colormap(cmap_name, min_val=0.2, max_val=1.0, n=100):\n",
    "    cmap = plt.get_cmap(cmap_name)\n",
    "    new_cmap = LinearSegmentedColormap.from_list(\n",
    "        f\"{cmap_name}_trunc\", cmap(np.linspace(min_val, max_val, n))\n",
    "    )\n",
    "    return new_cmap\n",
    "\n",
    "trunc_oranges = truncate_colormap(\"Oranges\", 0.2, 1.0)\n",
    "\n",
    "# Determine edge colors\n",
    "edge_colors = []\n",
    "for u, v in graph_change_1900.edges():\n",
    "    if graph_change_1900.has_edge(v, u):\n",
    "        edge_colors.append(\"forestgreen\")  # reciprocal\n",
    "    else:\n",
    "        edge_colors.append(\"skyblue\")  # unidirectional\n",
    "\n",
    "# Compute node colors based on total degree (in-degree + out-degree)\n",
    "degrees = dict(graph_change_1900.degree())\n",
    "node_colors = [degrees[node] for node in graph_change_1900.nodes()]\n",
    "\n",
    "# Draw graph\n",
    "plt.figure(figsize=(16, 8))\n",
    "pos = nx.spring_layout(graph_change_1900, seed=43)\n",
    "\n",
    "nodes = nx.draw_networkx_nodes(\n",
    "    graph_change_1900,\n",
    "    pos,\n",
    "    node_size=600,\n",
    "    node_color=node_colors,\n",
    "    cmap=trunc_oranges)\n",
    "\n",
    "edges = nx.draw_networkx_edges(\n",
    "    graph_change_1900,\n",
    "    pos,\n",
    "    edge_color=edge_colors)\n",
    "\n",
    "labels = nx.draw_networkx_labels(graph_change_1900, pos, font_size=9, font_color=\"white\")\n",
    "\n",
    "legend_elements = [\n",
    "    Line2D([0], [0], marker='o', color='w', markerfacecolor='forestgreen', markersize=9, label='Unidirectional'),\n",
    "    Line2D([0], [0], marker='o', color='w', markerfacecolor='skyblue', markersize=9, label='Bidirectional')\n",
    "]\n",
    "plt.legend(handles=legend_elements, loc='upper right')\n",
    "\n",
    "plt.colorbar(nodes, label=\"Total Degree\")\n",
    "plt.axis(\"off\")\n",
    "plt.show()"
   ]
  },
  {
   "cell_type": "markdown",
   "id": "cb035f2f-dce0-474f-b7c4-366a65748a64",
   "metadata": {},
   "source": [
    "Une représentation graphique fait apparaître :\n",
    "- Un marché des changes très intégré entre l'Europe et les Etats-Unis, rassemblant une dizaine de pays (GBR, FRA, DEU, USA notamment)\n",
    "- Un marché des changes secondaires en Asie, rassemblant une demi-douzaine de pays (HKG, SGP, CHN, IND notamment)\n",
    "- Un relatif isolement des autres pays, qui entretiennent des liens unilatéraux avec quelques pays appartenants aux groupes précédents\n",
    "\n",
    "*(On pourrait utiliser le nombre de devises échangées plutôt que le nombre de liens pour la coloration.)*"
   ]
  },
  {
   "cell_type": "code",
   "execution_count": null,
   "id": "86b74647-9edf-44ae-9a03-e26c95840733",
   "metadata": {},
   "outputs": [],
   "source": [
    "countries = [\"DEU\", \"HKG\", \"EGY\"]\n",
    "\n",
    "fig, axes = plt.subplots(1, 3, figsize=(15, 5))\n",
    "\n",
    "for i, country_B in enumerate(countries):\n",
    "    # Get the nodes related to country_B\n",
    "    neighbors = list(graph_change_1900.neighbors(country_B))\n",
    "    predecessors = list(graph_change_1900.predecessors(country_B))\n",
    "    nodes_involved = [country_B] + neighbors + predecessors\n",
    "    subgraph = graph_change_1900.subgraph(nodes_involved)\n",
    "    restricted_graph = nx.DiGraph(subgraph)\n",
    "\n",
    "    edge_colors = []\n",
    "    for u, v in restricted_graph.edges():\n",
    "        if restricted_graph.has_edge(v, u):\n",
    "            edge_colors.append(\"forestgreen\")  # reciprocal\n",
    "        else:\n",
    "            edge_colors.append(\"skyblue\")  # unidirectional\n",
    "\n",
    "    pos = nx.spring_layout(restricted_graph)\n",
    "    ax = axes[i]\n",
    "    nx.draw_networkx_nodes(restricted_graph, pos, node_size=600, node_color=\"chocolate\", ax=ax)\n",
    "    nx.draw_networkx_edges(restricted_graph, pos, edge_color=edge_colors, ax=ax)\n",
    "    nx.draw_networkx_labels(restricted_graph, pos, font_size=9, font_color=\"white\", ax=ax)\n",
    "    ax.set_title(f\"Graph restricted to {country_B} and its neighbors\")\n",
    "\n",
    "plt.tight_layout()\n",
    "plt.show()"
   ]
  },
  {
   "cell_type": "markdown",
   "id": "682d836b-48f0-4414-9f1f-728f3570d25c",
   "metadata": {},
   "source": [
    "On peut faire apparaître les marchés intégrés en restreignant le graph aux liens réciproques ou en recherchant les cliques..."
   ]
  },
  {
   "cell_type": "code",
   "execution_count": null,
   "id": "24ed169e-af07-4b6c-a064-c45f0b895446",
   "metadata": {},
   "outputs": [],
   "source": [
    "graph_change_1900 = nx.DiGraph()\n",
    "\n",
    "for _, row in data.iterrows():\n",
    "    if row[\"quote1900\"] == 1:\n",
    "        graph_change_1900.add_edge(row[\"country_A\"], row[\"country_B\"])\n",
    "\n",
    "# Filter for reciprocal edges\n",
    "reciprocal_edges = [(u, v) for u, v in graph_change_1900.edges() if graph_change_1900.has_edge(v, u)]\n",
    "# Get nodes involved in reciprocal edges\n",
    "nodes_with_reciprocal_edges = set(u for u, v in reciprocal_edges) | set(v for u, v in reciprocal_edges)\n",
    "\n",
    "plt.figure(figsize=(8, 5))\n",
    "pos = nx.spring_layout(graph_change_1900, seed=42)\n",
    "graph_filtered = graph_change_1900.subgraph(nodes_with_reciprocal_edges)\n",
    "\n",
    "nx.draw_networkx_nodes(graph_filtered, pos, node_size=600, node_color=\"chocolate\")\n",
    "nx.draw_networkx_edges(graph_filtered, pos, edgelist=reciprocal_edges, edge_color=\"skyblue\")\n",
    "nx.draw_networkx_labels(graph_filtered, pos, font_size=9, font_color=\"white\")\n",
    "\n",
    "plt.axis(\"off\")\n",
    "plt.show()"
   ]
  },
  {
   "cell_type": "code",
   "execution_count": null,
   "id": "3fbbe382-ee84-45f2-826b-8c90d12229aa",
   "metadata": {},
   "outputs": [],
   "source": [
    "# On peut essayer de formaliser en recherchant des cliques\n",
    "undirected_graph = graph_change_1900.to_undirected()\n",
    "cliques = list(nx.find_cliques(undirected_graph ))\n",
    "largest_cliques = sorted(cliques, key=len, reverse=True)[:1]\n",
    "print(f\"Plus grande clique : {largest_cliques[0]}\")"
   ]
  },
  {
   "cell_type": "code",
   "execution_count": null,
   "id": "2b91e177-2a07-4b39-a1e0-b8ea90c2a270",
   "metadata": {
    "scrolled": true
   },
   "outputs": [],
   "source": [
    "out_degree = graph_change_1900.out_degree()\n",
    "in_degree = graph_change_1900.in_degree()\n",
    "\n",
    "out_degree_centrality = nx.out_degree_centrality(graph_change_1900)\n",
    "in_degree_centrality = nx.in_degree_centrality(graph_change_1900)\n",
    "betweenness_centrality = nx.betweenness_centrality(graph_change_1900)\n",
    "eigenvector_centrality = nx.eigenvector_centrality(graph_change_1900)\n",
    "\n",
    "df = pd.DataFrame({\n",
    "    \"Country\": [node for node, _ in out_degree],\n",
    "    \"Out-Degree\": [degree for _, degree in out_degree],\n",
    "    \"In-Degree\": [degree for _, degree in in_degree],\n",
    "    \"Out-Degree Centrality\": [out_degree_centrality.get(node, 0) for node, _ in out_degree],\n",
    "    \"In-Degree Centrality\": [in_degree_centrality.get(node, 0) for node, _ in in_degree],\n",
    "    \"Betweenness Centrality\": [betweenness_centrality.get(node, 0) for node, _ in out_degree],\n",
    "    \"Eigenvector Centrality\": [eigenvector_centrality.get(node, 0) for node, _ in out_degree]\n",
    "})\n",
    "\n",
    "df[\"In / Out ratio\"] = df[\"In-Degree Centrality\"] / df[\"Out-Degree Centrality\"]\n",
    "df = df[[*df.columns[:df.columns.get_loc(\"In-Degree Centrality\")+1], \"In / Out ratio\", *df.columns[df.columns.get_loc(\"In-Degree Centrality\")+1:].drop(\"In / Out ratio\")]]\n",
    "\n",
    "df_sorted = df.sort_values(by=\"Betweenness Centrality\", ascending=False)\n",
    "df_sorted.style.hide(axis=\"index\").format({\n",
    "    \"Out-Degree\": \"{:.0f}\",\n",
    "    \"In-Degree\": \"{:.0f}\",\n",
    "    \"Out-Degree Centrality\": \"{:.3f}\",\n",
    "    \"In-Degree Centrality\": \"{:.3f}\",\n",
    "    \"Betweenness Centrality\": \"{:.3f}\",\n",
    "    \"Average Centrality\": \"{:.3f}\",\n",
    "    \"In / Out ratio\": \"{:.3f}\",\n",
    "    \"Eigenvector Centrality\": \"{:.3f}\",\n",
    "})"
   ]
  },
  {
   "cell_type": "code",
   "execution_count": null,
   "id": "a318785f-ba3d-4519-8317-72a9dfd121e4",
   "metadata": {},
   "outputs": [],
   "source": [
    "pearson_corr = df['In-Degree'].corr(df['Out-Degree'])\n",
    "print(f\"Corrélation entre les centralités entrantes et sortantes : {pearson_corr:.4f}\")"
   ]
  },
  {
   "cell_type": "markdown",
   "id": "7745bc08-ac30-4ce5-94c2-414d92a0c9ed",
   "metadata": {},
   "source": [
    "... ou en étudiant la centralité.\n",
    "\n",
    "La **centralité intermédiaire** fait ressortir quelques marchés constituant des points de passage obligés : GBR et DEU, ainsi dans une moindre mesure que FRA, HKG et DNK.\n",
    "\n",
    "Le ratio entre les **centralités entrantes et sortantes**, c'est-à-dire entre le nombre de devises échangées localement par un pays, et le nombre de pays échangeant sa propre devise, permet de distinguer des situations plus contrastées.\n",
    "- Les pays colonisateurs : GBR, FRA et ESP, dont la centralité sortante est très supérieure à la centralité entrante, sans doute parce qu'ils entretiennent des liens unilatéraux avec leurs colonnies et des liens bilatéraux avec les autres pays développés.\n",
    "- Les pays développés : DEU, IT, USA, etc., dont les centralités entrantes et sortantes sont relativement proches, sans doute parce qu'ils entretiennent surtout des liens bilatéraux entre eux.\n",
    "- Les pays périphériques / dépendants, qui n'ont aucun lien entrant.\n",
    "\n",
    "La **centralité vectorielle** n'apporte rien par rapport aux analyses précédentes, elle oppose seulement les pays intégrés aux autres."
   ]
  },
  {
   "cell_type": "code",
   "execution_count": null,
   "id": "da82c28a-5f79-42bd-aed8-0642bb338f50",
   "metadata": {
    "scrolled": true
   },
   "outputs": [],
   "source": [
    "# Jetons un oeil à la transitivité\n",
    "print(f\"La transitivité globale est de {nx.average_clustering(graph_change_1900):.3f}\")\n",
    "print(f\"La transitivité moyenne est de {nx.transitivity(graph_change_1900):.3f}\")\n",
    "\n",
    "print('La transitivité locale de chaque pays est : ')\n",
    "for node, coeff in sorted(nx.clustering(graph_change_1900).items(), key=lambda x: x[1]):\n",
    "    print(f\"{node}: {coeff:.3f}\")"
   ]
  },
  {
   "cell_type": "markdown",
   "id": "f8388fd3-065e-40b3-8f0e-96d7e938f5ea",
   "metadata": {},
   "source": [
    "La transitivité n'est pas très éclairante ?\n",
    "\n",
    "# Seconde approche\n",
    "***Expliquer la structure du graph avec les attributs ?***\n",
    "\n",
    "Intéger les relations commerciales (avec `bitrade`) et financières (avec `rshort`et `rlong`) ? Par exemple, est-ce que l'absence de liens entre pays reflète la faiblesse des échanges commerciaux, ou des différentiels de taux d'intérêt ?\n",
    "\n",
    "Pour les colonnies : aucun pays Africain dans la base"
   ]
  },
  {
   "cell_type": "code",
   "execution_count": null,
   "id": "970b68cf-003c-436b-9ddd-261c7482bf88",
   "metadata": {},
   "outputs": [],
   "source": [
    "# Ajoutons les attributs\n",
    "attributesdata = attributes.set_index('country').to_dict('index').items()\n",
    "graph_change_1900.add_nodes_from(attributesdata)\n",
    "\n",
    "print(nx.get_node_attributes(graph_change_1900, 'gold'))"
   ]
  },
  {
   "cell_type": "code",
   "execution_count": null,
   "id": "ee289bb2-99e2-4ef1-a013-f2f89ec6d8cd",
   "metadata": {},
   "outputs": [],
   "source": [
    "# Création d'un graph des colonies \n",
    "graph_colony = nx.DiGraph()\n",
    "\n",
    "for _, row in data.iterrows():\n",
    "    if row[\"colony\"] == 1:\n",
    "        graph_colony.add_edge(row[\"country_A\"], row[\"country_B\"])\n",
    "\n",
    "print(f\"Nombre de sommets : {graph_colony.number_of_nodes()}\")\n",
    "print(f\"Nombre d'arêtes : {graph_colony.number_of_edges()}\")\n",
    "\n",
    "nx.draw(graph_colony, with_labels=True, node_size=500, font_size=10)\n",
    "plt.show()\n",
    "\n",
    "# Bon par contre ça c'est vraiment un tout petit graph, on a très peu de colonies en fait. Ou plus exactement sans doute, peu de colonies qui ont un marché des changes"
   ]
  },
  {
   "cell_type": "code",
   "execution_count": null,
   "id": "e9ecd22e-9aa5-442a-9e45-403dfb93ce96",
   "metadata": {},
   "outputs": [],
   "source": []
  }
 ],
 "metadata": {
  "kernelspec": {
   "display_name": "Python 3 (ipykernel)",
   "language": "python",
   "name": "python3"
  },
  "language_info": {
   "codemirror_mode": {
    "name": "ipython",
    "version": 3
   },
   "file_extension": ".py",
   "mimetype": "text/x-python",
   "name": "python",
   "nbconvert_exporter": "python",
   "pygments_lexer": "ipython3",
   "version": "3.12.9"
  }
 },
 "nbformat": 4,
 "nbformat_minor": 5
}
