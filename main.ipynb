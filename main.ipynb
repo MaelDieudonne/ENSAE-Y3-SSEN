{
 "cells": [
  {
   "cell_type": "code",
   "execution_count": null,
   "id": "e8f04bea-df1d-4b94-859d-91c7f3981c67",
   "metadata": {},
   "outputs": [],
   "source": [
    "import pandas as pd\n",
    "import networkx as nx\n",
    "import matplotlib.pyplot as plt\n",
    "import numpy as np\n",
    "\n",
    "from matplotlib.cm import get_cmap\n",
    "from matplotlib.colors import LinearSegmentedColormap\n",
    "from matplotlib.lines import Line2D"
   ]
  },
  {
   "cell_type": "code",
   "execution_count": null,
   "id": "1ffaca6b-4e1d-49e0-95f2-0330638d7d73",
   "metadata": {},
   "outputs": [],
   "source": [
    "# Lecture des données\n",
    "data = pd.read_csv('data/flandreau_jobst_internationalcurrencies_data.txt', encoding='cp1252', skiprows=9, header=0, sep='\\t')"
   ]
  },
  {
   "cell_type": "code",
   "execution_count": null,
   "id": "689a2222-3949-45a5-aa56-bd922743d277",
   "metadata": {
    "scrolled": true
   },
   "outputs": [],
   "source": [
    "# Commençons par créer un fichier attributes en ne gardant que les éléments par pays puis supprimant les lignes qui se répètent\n",
    "attributes = data[[\"country_A\", \"gold\", \"colony\", \"debtburden\", \"rlong\", \"rshort1900\", \"rshort1890\", \"rgdp\", \"rgdpcap\", \"poldemo\", \"coverage\"]]\n",
    "# Sort the dataframe to ensure rows with colony=1 come first\n",
    "attributes = attributes.sort_values(by=[\"country_A\", \"colony\"], ascending=[True, False])\n",
    "# Drop duplicates, keeping the first row (colony=1 will be kept if present)\n",
    "attributes = attributes.drop_duplicates(subset=\"country_A\", keep=\"first\").reset_index(drop=True)\n",
    "attributes = attributes.rename(columns={\"colony\": \"is_colonized\"})\n",
    "\n",
    "# Récupérons aussi le nombre de colonies\n",
    "nb_colonies = data.groupby(\"country_B\")[\"colony\"].sum().reset_index()\n",
    "nb_colonies = nb_colonies.rename(columns={\"colony\": \"has_colonies\"})\n",
    "attributes = nb_colonies.merge(attributes, left_on=\"country_B\", right_on=\"country_A\", how=\"left\")\n",
    "attributes = attributes.drop(columns=['country_A'])\n",
    "attributes = attributes.rename(columns={\"country_B\": \"country\"})"
   ]
  },
  {
   "cell_type": "code",
   "execution_count": null,
   "id": "68fb4c81-3a8b-4cea-a688-7d35e8da9842",
   "metadata": {
    "scrolled": true
   },
   "outputs": [],
   "source": [
    "attributes.style.hide(axis=\"index\")"
   ]
  },
  {
   "cell_type": "markdown",
   "id": "4ad456f0-3d38-4f4b-b9bc-6050ddc095a0",
   "metadata": {},
   "source": [
    "# Première approche, sans attributs"
   ]
  },
  {
   "cell_type": "code",
   "execution_count": null,
   "id": "dcb7c629-f5bf-4876-a53b-7f66f43a9b0c",
   "metadata": {},
   "outputs": [],
   "source": [
    "# Création d'un graph orienté avec la variable 1900 (possible de pondérer le graph pour utiliser les 3 ? Ou de faire avec le commerce ?)\n",
    "graph_change_1900 = nx.DiGraph()\n",
    "\n",
    "for _, row in data.iterrows():\n",
    "    if row[\"quote1900\"] == 1:\n",
    "        graph_change_1900.add_edge(row[\"country_A\"], row[\"country_B\"])"
   ]
  },
  {
   "cell_type": "code",
   "execution_count": null,
   "id": "88a43d82-92fa-4adf-adcb-67817046cd53",
   "metadata": {},
   "outputs": [],
   "source": [
    "n = graph_change_1900.number_of_nodes()\n",
    "L = graph_change_1900.number_of_edges()\n",
    "density = L/(n*(n-1))\n",
    "print(f\"Nombre de sommets : {n}\")\n",
    "print(f\"Nombre d'arêtes : {L}\")\n",
    "print(f\"Densité : {density:.4f}\")"
   ]
  },
  {
   "cell_type": "markdown",
   "id": "ccf69086-985e-41dc-8caf-8847bfb842e7",
   "metadata": {},
   "source": [
    "On voit déjà que le réseau est très peu dense, avec seulement 218 arêtes sur les $45*44=1980$ possibles, ce qui correspond à une densité de 0.11 : on peut déjà en déduire que la majorité des pays ne sont pas connectés sur le marché des changes."
   ]
  },
  {
   "cell_type": "code",
   "execution_count": null,
   "id": "8209efac-e4f7-4761-9bc9-8aba215ea487",
   "metadata": {},
   "outputs": [],
   "source": [
    "def truncate_colormap(cmap_name, min_val=0.2, max_val=1.0, n=100):\n",
    "    cmap = plt.get_cmap(cmap_name)\n",
    "    new_cmap = LinearSegmentedColormap.from_list(\n",
    "        f\"{cmap_name}_trunc\", cmap(np.linspace(min_val, max_val, n))\n",
    "    )\n",
    "    return new_cmap\n",
    "\n",
    "trunc_oranges = truncate_colormap(\"Oranges\", 0.2, 1.0)\n",
    "\n",
    "# Determine edge colors\n",
    "edge_colors = []\n",
    "for u, v in graph_change_1900.edges():\n",
    "    if graph_change_1900.has_edge(v, u):\n",
    "        edge_colors.append(\"forestgreen\")  # reciprocal\n",
    "    else:\n",
    "        edge_colors.append(\"skyblue\")  # unidirectional\n",
    "\n",
    "# Compute node colors based on total degree (in-degree + out-degree)\n",
    "# Would make sense to use the number of foreign currencies traded locally instead\n",
    "degrees = dict(graph_change_1900.degree())\n",
    "node_colors = [degrees[node] for node in graph_change_1900.nodes()]\n",
    "\n",
    "# Draw graph\n",
    "plt.figure(figsize=(16, 8))\n",
    "pos = nx.spring_layout(graph_change_1900, seed=43)\n",
    "\n",
    "nodes = nx.draw_networkx_nodes(\n",
    "    graph_change_1900,\n",
    "    pos,\n",
    "    node_size=600,\n",
    "    node_color=node_colors,\n",
    "    cmap=trunc_oranges)\n",
    "\n",
    "edges = nx.draw_networkx_edges(\n",
    "    graph_change_1900,\n",
    "    pos,\n",
    "    edge_color=edge_colors)\n",
    "\n",
    "labels = nx.draw_networkx_labels(graph_change_1900, pos, font_size=9, font_color=\"white\")\n",
    "\n",
    "legend_elements = [\n",
    "    Line2D([0], [0], marker='o', color='w', markerfacecolor='forestgreen', markersize=9, label='Unidirectional'),\n",
    "    Line2D([0], [0], marker='o', color='w', markerfacecolor='skyblue', markersize=9, label='Bidirectional')\n",
    "]\n",
    "plt.legend(handles=legend_elements, loc='upper right')\n",
    "\n",
    "plt.colorbar(nodes, label=\"Total Degree\")\n",
    "plt.axis(\"off\")\n",
    "plt.show()"
   ]
  },
  {
   "cell_type": "markdown",
   "id": "cb035f2f-dce0-474f-b7c4-366a65748a64",
   "metadata": {},
   "source": [
    "On peut constater cela visuellement, avec :\n",
    "- Un marché des changes très intégré entre l'Europe et les Etats-Unis, intégrant une dizaine de pays.\n",
    "- Un marché des changes secondaires en Asie, intégrant une demi-douzaine de pays.\n",
    "- Tous les autres pays sont dépendants de quelques places étrangères pour leurs relations de change."
   ]
  },
  {
   "cell_type": "code",
   "execution_count": null,
   "id": "24ed169e-af07-4b6c-a064-c45f0b895446",
   "metadata": {},
   "outputs": [],
   "source": [
    "# Ou avec un graph restreint aux liens bilatéraux\n",
    "graph_change_1900 = nx.DiGraph()\n",
    "\n",
    "for _, row in data.iterrows():\n",
    "    if row[\"quote1900\"] == 1:\n",
    "        graph_change_1900.add_edge(row[\"country_A\"], row[\"country_B\"])\n",
    "\n",
    "# Filter for reciprocal edges\n",
    "reciprocal_edges = [(u, v) for u, v in graph_change_1900.edges() if graph_change_1900.has_edge(v, u)]\n",
    "# Get nodes involved in reciprocal edges\n",
    "nodes_with_reciprocal_edges = set(u for u, v in reciprocal_edges) | set(v for u, v in reciprocal_edges)\n",
    "\n",
    "plt.figure(figsize=(8, 5))\n",
    "pos = nx.spring_layout(graph_change_1900, seed=42)\n",
    "graph_filtered = graph_change_1900.subgraph(nodes_with_reciprocal_edges)\n",
    "\n",
    "nx.draw_networkx_nodes(graph_filtered, pos, node_size=600, node_color=\"chocolate\")\n",
    "nx.draw_networkx_edges(graph_filtered, pos, edgelist=reciprocal_edges, edge_color=\"skyblue\")\n",
    "nx.draw_networkx_labels(graph_filtered, pos, font_size=9, font_color=\"white\")\n",
    "\n",
    "plt.axis(\"off\")\n",
    "plt.show()"
   ]
  },
  {
   "cell_type": "code",
   "execution_count": null,
   "id": "3fbbe382-ee84-45f2-826b-8c90d12229aa",
   "metadata": {},
   "outputs": [],
   "source": [
    "# On peut essayer de formaliser en recherchant des cliques\n",
    "undirected_graph = graph_change_1900.to_undirected()\n",
    "cliques = list(nx.find_cliques(undirected_graph ))\n",
    "largest_cliques = sorted(cliques, key=len, reverse=True)[:1]\n",
    "print(f\"Plus grande clique : {largest_cliques[0]}\")"
   ]
  },
  {
   "cell_type": "code",
   "execution_count": null,
   "id": "2b91e177-2a07-4b39-a1e0-b8ea90c2a270",
   "metadata": {
    "scrolled": true
   },
   "outputs": [],
   "source": [
    "# On regarde quelques éléments sur le graph, en particulier indegree et oudegree\n",
    "# out-degree = nombre de pays étrangers qui ont un marché de la monnaie du pays en question\n",
    "# in-degree = nombre monnaies étrangères échangées dans le pays en question\n",
    "\n",
    "out_degree = graph_change_1900.out_degree()\n",
    "in_degree = graph_change_1900.in_degree()\n",
    "\n",
    "out_degree_centrality = nx.out_degree_centrality(graph_change_1900)\n",
    "in_degree_centrality = nx.in_degree_centrality(graph_change_1900)\n",
    "betweenness_centrality = nx.betweenness_centrality(graph_change_1900)\n",
    "\n",
    "df = pd.DataFrame({\n",
    "    \"Country\": [node for node, _ in out_degree],\n",
    "    \"Out-Degree\": [degree for _, degree in out_degree],\n",
    "    \"In-Degree\": [degree for _, degree in in_degree],\n",
    "    \"Out-Degree Centrality\": [out_degree_centrality.get(node, 0) for node, _ in out_degree],\n",
    "    \"In-Degree Centrality\": [in_degree_centrality.get(node, 0) for node, _ in in_degree],\n",
    "    \"Betweenness Centrality\": [betweenness_centrality.get(node, 0) for node, _ in out_degree]\n",
    "})\n",
    "\n",
    "df[\"In / Out ratio\"] = df[\"In-Degree Centrality\"] / df[\"Out-Degree Centrality\"]\n",
    "\n",
    "df_sorted = df.sort_values(by=\"Betweenness Centrality\", ascending=False)\n",
    "\n",
    "df_sorted.style.hide(axis=\"index\").format({\n",
    "    \"Out-Degree\": \"{:.0f}\",\n",
    "    \"In-Degree\": \"{:.0f}\",\n",
    "    \"Out-Degree Centrality\": \"{:.3f}\",\n",
    "    \"In-Degree Centrality\": \"{:.3f}\",\n",
    "    \"Betweenness Centrality\": \"{:.3f}\",\n",
    "    \"Average Centrality\": \"{:.3f}\",\n",
    "    \"In / Out ratio\": \"{:.3f}\"\n",
    "})"
   ]
  },
  {
   "cell_type": "markdown",
   "id": "7745bc08-ac30-4ce5-94c2-414d92a0c9ed",
   "metadata": {},
   "source": [
    "On peut conforter les observations précédents en étudiant la centralité intermédiaire, qui distingue quelques marchés constituant des points de passage obligés : GBR, DEU, FRA\n",
    "\n",
    "* => Il faudrait comparer avec le volume des échanges entre pays : est-il aussi très faible entre les pays périphériques ?\n",
    "\n",
    "On peut aussi essayer de contraster les situations des principales places de change en comparant les centralités intérieure et extérieure. Plus le ratio In / Out est élevé pour un pays donné, plus il sert d'intermédiaire de change pour les autres pays, sans qu'eux-mêmes n'utilisent sa propre monnaie ?\n",
    "\n",
    "Ce qui permet de distinguer les pays coloniaux comme la France, l'Angleterre et l'Espagne, des pays non-coloniaux comme l'Allemagne, les Etats-Unis ou l'Italie ?"
   ]
  },
  {
   "cell_type": "markdown",
   "id": "f8388fd3-065e-40b3-8f0e-96d7e938f5ea",
   "metadata": {},
   "source": [
    "# Seconde approche, avec les attributs"
   ]
  },
  {
   "cell_type": "code",
   "execution_count": null,
   "id": "970b68cf-003c-436b-9ddd-261c7482bf88",
   "metadata": {},
   "outputs": [],
   "source": [
    "# Ajoutons les attributs\n",
    "attributesdata = attributes.set_index('country').to_dict('index').items()\n",
    "graph_change_1900.add_nodes_from(attributesdata)\n",
    "\n",
    "print(nx.get_node_attributes(graph_change_1900, 'gold'))"
   ]
  },
  {
   "cell_type": "code",
   "execution_count": null,
   "id": "d6cf8a5f-6fbb-4283-aa17-fe66ff094506",
   "metadata": {},
   "outputs": [],
   "source": [
    "print(f\"La réciprocité moyenne vaut {nx.reciprocity(graph_change_1900):.3f}\")\n",
    "print(f\"La densité du graph est de {nx.density(graph_change_1900):.3f}\")"
   ]
  },
  {
   "cell_type": "code",
   "execution_count": null,
   "id": "da82c28a-5f79-42bd-aed8-0642bb338f50",
   "metadata": {
    "scrolled": true
   },
   "outputs": [],
   "source": [
    "# Jetons un oeil à la transitivité\n",
    "print(f\"La transitivité globale est de {nx.average_clustering(graph_change_1900):.3f}\")\n",
    "print(f\"La transitivité moyenne est de {nx.transitivity(graph_change_1900):.3f}\")\n",
    "\n",
    "print('La transitivité locale de chaque pays est : ')\n",
    "for node, coeff in sorted(nx.clustering(graph_change_1900).items(), key=lambda x: x[1]):\n",
    "    print(f\"{node}: {coeff:.3f}\")"
   ]
  },
  {
   "cell_type": "code",
   "execution_count": null,
   "id": "1ce04632-f1b2-43ff-931e-7e2f55a3c69d",
   "metadata": {},
   "outputs": [],
   "source": [
    "# La betweeness centrality\n",
    "for node, coeff in sorted(nx.betweenness_centrality(graph_change_1900).items(), key=lambda x: x[1], reverse=True):\n",
    "    print(f\"{node}: {coeff:.3f}\")\n",
    "# Intéressant, la GB ressort, comme l'Allemage d'ailleurs, mais la France recule beaucoup. \n",
    "# Cela dit, on peut discuter de la pertinence de cet indicateur, qui suit l'orientation des liens"
   ]
  },
  {
   "cell_type": "code",
   "execution_count": null,
   "id": "9f390981-3ff3-4875-b1cd-25ee0e9c3a96",
   "metadata": {},
   "outputs": [],
   "source": [
    "# Eignevector centrality\n",
    "for node, coeff in sorted(nx.eigenvector_centrality(graph_change_1900).items(), key=lambda x: x[1], reverse=True):\n",
    "    print(f\"{node}: {coeff:.3f}\")\n",
    "# Rappel, il s'agit du calcul sur le graph des liens entrants seulement, mais en même temps probablement le plus pertinent"
   ]
  },
  {
   "cell_type": "code",
   "execution_count": null,
   "id": "ee289bb2-99e2-4ef1-a013-f2f89ec6d8cd",
   "metadata": {},
   "outputs": [],
   "source": [
    "# Une autre possibilité serait de regarder les colonies\n",
    "# Création d'un graph des colonies \n",
    "graph_colony = nx.DiGraph()\n",
    "\n",
    "for _, row in data.iterrows():\n",
    "    if row[\"colony\"] == 1:\n",
    "        graph_colony.add_edge(row[\"country_A\"], row[\"country_B\"])\n",
    "\n",
    "print(f\"Nombre de sommets : {graph_colony.number_of_nodes()}\")\n",
    "print(f\"Nombre d'arêtes : {graph_colony.number_of_edges()}\")\n",
    "\n",
    "nx.draw(graph_colony, with_labels=True, node_size=500, font_size=10)\n",
    "plt.show()\n",
    "\n",
    "# Bon par contre ça c'est vraiment un tout petit graph, on a très peu de colonies en fait. Ou plus exactement sans doute, peu de colonies qui ont un marché des changes"
   ]
  },
  {
   "cell_type": "code",
   "execution_count": null,
   "id": "e9ecd22e-9aa5-442a-9e45-403dfb93ce96",
   "metadata": {},
   "outputs": [],
   "source": []
  }
 ],
 "metadata": {
  "kernelspec": {
   "display_name": "Python 3 (ipykernel)",
   "language": "python",
   "name": "python3"
  },
  "language_info": {
   "codemirror_mode": {
    "name": "ipython",
    "version": 3
   },
   "file_extension": ".py",
   "mimetype": "text/x-python",
   "name": "python",
   "nbconvert_exporter": "python",
   "pygments_lexer": "ipython3",
   "version": "3.12.9"
  }
 },
 "nbformat": 4,
 "nbformat_minor": 5
}
